{
 "cells": [
  {
   "cell_type": "code",
   "execution_count": 97,
   "id": "0adf3de5-6f68-4113-a341-2ba11df80fd8",
   "metadata": {},
   "outputs": [],
   "source": [
    "import pandas as pd\n",
    "from bokeh.io import show\n",
    "from bokeh.models import ColumnDataSource\n",
    "from bokeh.plotting import figure\n",
    "from bokeh.palettes import Category20c, Spectral11, RdBu as red_blue\n",
    "from itertools import cycle"
   ]
  },
  {
   "cell_type": "code",
   "execution_count": 143,
   "id": "680aa23e-fe44-44eb-8a08-b02a4c8d2d94",
   "metadata": {},
   "outputs": [],
   "source": [
    "import matplotlib.pyplot as plt"
   ]
  },
  {
   "cell_type": "code",
   "execution_count": 99,
   "id": "3b0aa811-b379-4d12-b0be-b70dc66fb9d4",
   "metadata": {},
   "outputs": [],
   "source": [
    "file_path = ('Desktop/aggregated_case_data.csv')"
   ]
  },
  {
   "cell_type": "code",
   "execution_count": 209,
   "id": "9cb28f67-1d66-4df7-be8b-4ec196ed1818",
   "metadata": {},
   "outputs": [],
   "source": [
    "data = pd.read_csv(file_path)"
   ]
  },
  {
   "cell_type": "code",
   "execution_count": 181,
   "id": "05e2f6ac-d735-451e-b469-8cf32b864dab",
   "metadata": {},
   "outputs": [],
   "source": [
    "file = 'Desktop/project3_group2/Unidentified_12-19-2024.19_34_45.csv'"
   ]
  },
  {
   "cell_type": "code",
   "execution_count": 183,
   "id": "c6ab2e75-bdfd-4344-b47b-aaa0a5ce1478",
   "metadata": {},
   "outputs": [],
   "source": [
    "df = pd.read_csv(file)"
   ]
  },
  {
   "cell_type": "code",
   "execution_count": 187,
   "id": "a8c84409-ed57-4745-9ba6-8d4edcf6b009",
   "metadata": {},
   "outputs": [
    {
     "name": "stdout",
     "output_type": "stream",
     "text": [
      "['Case', 'ME/C Case', 'DBF', 'Age From', 'Age To', 'City', 'County', 'State', 'Biological Sex', 'Race / Ethnicity', 'Date Modified']\n"
     ]
    }
   ],
   "source": [
    "print(df.columns.tolist())"
   ]
  },
  {
   "cell_type": "code",
   "execution_count": 213,
   "id": "a7ba2199-84bf-4cda-b09d-11af907fd733",
   "metadata": {},
   "outputs": [],
   "source": [
    "import altair as alt"
   ]
  },
  {
   "cell_type": "code",
   "execution_count": 229,
   "id": "18fdbb42-39e7-4b75-8c1f-5d26fb90c05a",
   "metadata": {},
   "outputs": [
    {
     "name": "stderr",
     "output_type": "stream",
     "text": [
      "/opt/anaconda3/lib/python3.12/site-packages/altair/utils/deprecation.py:65: AltairDeprecationWarning: 'selection_single' is deprecated.  Use 'selection_point'\n",
      "  warnings.warn(message, AltairDeprecationWarning, stacklevel=1)\n",
      "/opt/anaconda3/lib/python3.12/site-packages/altair/utils/deprecation.py:65: AltairDeprecationWarning: 'add_selection' is deprecated. Use 'add_params' instead.\n",
      "  warnings.warn(message, AltairDeprecationWarning, stacklevel=1)\n",
      "/opt/anaconda3/lib/python3.12/site-packages/altair/utils/core.py:395: FutureWarning: the convert_dtype parameter is deprecated and will be removed in a future version.  Do ``ser.astype(object).apply()`` instead if you want ``convert_dtype=False``.\n",
      "  col = df[col_name].apply(to_list_if_array, convert_dtype=False)\n",
      "/opt/anaconda3/lib/python3.12/site-packages/altair/utils/core.py:395: FutureWarning: the convert_dtype parameter is deprecated and will be removed in a future version.  Do ``ser.astype(object).apply()`` instead if you want ``convert_dtype=False``.\n",
      "  col = df[col_name].apply(to_list_if_array, convert_dtype=False)\n"
     ]
    },
    {
     "data": {
      "text/html": [
       "\n",
       "<style>\n",
       "  #altair-viz-0f9f0c471304448bb2bc857f22bc05a5.vega-embed {\n",
       "    width: 100%;\n",
       "    display: flex;\n",
       "  }\n",
       "\n",
       "  #altair-viz-0f9f0c471304448bb2bc857f22bc05a5.vega-embed details,\n",
       "  #altair-viz-0f9f0c471304448bb2bc857f22bc05a5.vega-embed details summary {\n",
       "    position: relative;\n",
       "  }\n",
       "</style>\n",
       "<div id=\"altair-viz-0f9f0c471304448bb2bc857f22bc05a5\"></div>\n",
       "<script type=\"text/javascript\">\n",
       "  var VEGA_DEBUG = (typeof VEGA_DEBUG == \"undefined\") ? {} : VEGA_DEBUG;\n",
       "  (function(spec, embedOpt){\n",
       "    let outputDiv = document.currentScript.previousElementSibling;\n",
       "    if (outputDiv.id !== \"altair-viz-0f9f0c471304448bb2bc857f22bc05a5\") {\n",
       "      outputDiv = document.getElementById(\"altair-viz-0f9f0c471304448bb2bc857f22bc05a5\");\n",
       "    }\n",
       "    const paths = {\n",
       "      \"vega\": \"https://cdn.jsdelivr.net/npm/vega@5?noext\",\n",
       "      \"vega-lib\": \"https://cdn.jsdelivr.net/npm/vega-lib?noext\",\n",
       "      \"vega-lite\": \"https://cdn.jsdelivr.net/npm/vega-lite@5.8.0?noext\",\n",
       "      \"vega-embed\": \"https://cdn.jsdelivr.net/npm/vega-embed@6?noext\",\n",
       "    };\n",
       "\n",
       "    function maybeLoadScript(lib, version) {\n",
       "      var key = `${lib.replace(\"-\", \"\")}_version`;\n",
       "      return (VEGA_DEBUG[key] == version) ?\n",
       "        Promise.resolve(paths[lib]) :\n",
       "        new Promise(function(resolve, reject) {\n",
       "          var s = document.createElement('script');\n",
       "          document.getElementsByTagName(\"head\")[0].appendChild(s);\n",
       "          s.async = true;\n",
       "          s.onload = () => {\n",
       "            VEGA_DEBUG[key] = version;\n",
       "            return resolve(paths[lib]);\n",
       "          };\n",
       "          s.onerror = () => reject(`Error loading script: ${paths[lib]}`);\n",
       "          s.src = paths[lib];\n",
       "        });\n",
       "    }\n",
       "\n",
       "    function showError(err) {\n",
       "      outputDiv.innerHTML = `<div class=\"error\" style=\"color:red;\">${err}</div>`;\n",
       "      throw err;\n",
       "    }\n",
       "\n",
       "    function displayChart(vegaEmbed) {\n",
       "      vegaEmbed(outputDiv, spec, embedOpt)\n",
       "        .catch(err => showError(`Javascript Error: ${err.message}<br>This usually means there's a typo in your chart specification. See the javascript console for the full traceback.`));\n",
       "    }\n",
       "\n",
       "    if(typeof define === \"function\" && define.amd) {\n",
       "      requirejs.config({paths});\n",
       "      require([\"vega-embed\"], displayChart, err => showError(`Error loading script: ${err.message}`));\n",
       "    } else {\n",
       "      maybeLoadScript(\"vega\", \"5\")\n",
       "        .then(() => maybeLoadScript(\"vega-lite\", \"5.8.0\"))\n",
       "        .then(() => maybeLoadScript(\"vega-embed\", \"6\"))\n",
       "        .catch(showError)\n",
       "        .then(() => displayChart(vegaEmbed));\n",
       "    }\n",
       "  })({\"config\": {\"view\": {\"continuousWidth\": 300, \"continuousHeight\": 300}}, \"data\": {\"name\": \"data-1057ae5e69d0cd7e227396af29c8779d\"}, \"mark\": {\"type\": \"bar\"}, \"encoding\": {\"color\": {\"field\": \"State\", \"legend\": null, \"type\": \"nominal\"}, \"x\": {\"field\": \"State\", \"type\": \"nominal\"}, \"y\": {\"aggregate\": \"sum\", \"field\": \"Case Count\", \"title\": \"Total Case Count\", \"type\": \"quantitative\"}}, \"params\": [{\"name\": \"Select State\", \"select\": {\"type\": \"point\", \"fields\": [\"State\"]}, \"bind\": \"legend\"}], \"$schema\": \"https://vega.github.io/schema/vega-lite/v5.8.0.json\", \"datasets\": {\"data-1057ae5e69d0cd7e227396af29c8779d\": [{\"County\": \"Accomack\", \"State\": \"Virginia\", \"Case Count\": 5}, {\"County\": \"Addison\", \"State\": \"Vermont\", \"Case Count\": 3}, {\"County\": \"Albany\", \"State\": \"New York\", \"Case Count\": 1}, {\"County\": \"Albemarle\", \"State\": \"Virginia\", \"Case Count\": 3}, {\"County\": \"Alexandria\", \"State\": \"Virginia\", \"Case Count\": 6}, {\"County\": \"Allegany\", \"State\": \"New York\", \"Case Count\": 1}, {\"County\": \"Alleghany\", \"State\": \"Virginia\", \"Case Count\": 1}, {\"County\": \"Allegheny\", \"State\": \"Pennsylvania\", \"Case Count\": 12}, {\"County\": \"Amelia\", \"State\": \"Virginia\", \"Case Count\": 1}, {\"County\": \"Amherst\", \"State\": \"Virginia\", \"Case Count\": 1}, {\"County\": \"Anderson\", \"State\": \"Tennessee\", \"Case Count\": 2}, {\"County\": \"Anne Arundel\", \"State\": \"Maryland\", \"Case Count\": 20}, {\"County\": \"Anson\", \"State\": \"North Carolina\", \"Case Count\": 1}, {\"County\": \"Appling\", \"State\": \"Georgia\", \"Case Count\": 1}, {\"County\": \"Arlington\", \"State\": \"Virginia\", \"Case Count\": 5}, {\"County\": \"Aroostook\", \"State\": \"Maine\", \"Case Count\": 1}, {\"County\": \"Ashe\", \"State\": \"North Carolina\", \"Case Count\": 1}, {\"County\": \"Atlantic\", \"State\": \"New Jersey\", \"Case Count\": 75}, {\"County\": \"Augusta\", \"State\": \"Virginia\", \"Case Count\": 1}, {\"County\": \"Baltimore\", \"State\": \"Maryland\", \"Case Count\": 197}, {\"County\": \"Banks\", \"State\": \"Georgia\", \"Case Count\": 1}, {\"County\": \"Barnstable\", \"State\": \"Massachusetts\", \"Case Count\": 17}, {\"County\": \"Barrow\", \"State\": \"Georgia\", \"Case Count\": 1}, {\"County\": \"Bartow\", \"State\": \"Georgia\", \"Case Count\": 3}, {\"County\": \"Beaver\", \"State\": \"Pennsylvania\", \"Case Count\": 1}, {\"County\": \"Bedford\", \"State\": \"Pennsylvania\", \"Case Count\": 2}, {\"County\": \"Bedford\", \"State\": \"Tennessee\", \"Case Count\": 1}, {\"County\": \"Ben Hill\", \"State\": \"Georgia\", \"Case Count\": 1}, {\"County\": \"Benton\", \"State\": \"Tennessee\", \"Case Count\": 1}, {\"County\": \"Bergen\", \"State\": \"New Jersey\", \"Case Count\": 21}, {\"County\": \"Berks\", \"State\": \"Pennsylvania\", \"Case Count\": 10}, {\"County\": \"Berkshire\", \"State\": \"Massachusetts\", \"Case Count\": 1}, {\"County\": \"Bibb\", \"State\": \"Georgia\", \"Case Count\": 3}, {\"County\": \"Bladen\", \"State\": \"North Carolina\", \"Case Count\": 1}, {\"County\": \"Blair\", \"State\": \"Pennsylvania\", \"Case Count\": 1}, {\"County\": \"Bland\", \"State\": \"Virginia\", \"Case Count\": 1}, {\"County\": \"Blount\", \"State\": \"Tennessee\", \"Case Count\": 2}, {\"County\": \"Botetourt\", \"State\": \"Virginia\", \"Case Count\": 1}, {\"County\": \"Bradford\", \"State\": \"Pennsylvania\", \"Case Count\": 2}, {\"County\": \"Bristol\", \"State\": \"Massachusetts\", \"Case Count\": 11}, {\"County\": \"Bristol\", \"State\": \"Virginia\", \"Case Count\": 1}, {\"County\": \"Bronx\", \"State\": \"New York\", \"Case Count\": 189}, {\"County\": \"Brooke\", \"State\": \"West Virginia\", \"Case Count\": 1}, {\"County\": \"Brunswick\", \"State\": \"North Carolina\", \"Case Count\": 5}, {\"County\": \"Brunswick\", \"State\": \"Virginia\", \"Case Count\": 3}, {\"County\": \"Buckingham\", \"State\": \"Virginia\", \"Case Count\": 1}, {\"County\": \"Bucks\", \"State\": \"Pennsylvania\", \"Case Count\": 9}, {\"County\": \"Buncombe\", \"State\": \"North Carolina\", \"Case Count\": 2}, {\"County\": \"Burke\", \"State\": \"North Carolina\", \"Case Count\": 1}, {\"County\": \"Burlington\", \"State\": \"New Jersey\", \"Case Count\": 16}, {\"County\": \"Cabarrus\", \"State\": \"North Carolina\", \"Case Count\": 1}, {\"County\": \"Cabell\", \"State\": \"West Virginia\", \"Case Count\": 2}, {\"County\": \"Calvert\", \"State\": \"Maryland\", \"Case Count\": 1}, {\"County\": \"Cambria\", \"State\": \"Pennsylvania\", \"Case Count\": 1}, {\"County\": \"Camden\", \"State\": \"Georgia\", \"Case Count\": 2}, {\"County\": \"Camden\", \"State\": \"New Jersey\", \"Case Count\": 15}, {\"County\": \"Cameron\", \"State\": \"Pennsylvania\", \"Case Count\": 1}, {\"County\": \"Campbell\", \"State\": \"Virginia\", \"Case Count\": 2}, {\"County\": \"Candler\", \"State\": \"Georgia\", \"Case Count\": 1}, {\"County\": \"Cape May\", \"State\": \"New Jersey\", \"Case Count\": 29}, {\"County\": \"Caroline\", \"State\": \"Virginia\", \"Case Count\": 3}, {\"County\": \"Carroll\", \"State\": \"Georgia\", \"Case Count\": 1}, {\"County\": \"Carteret\", \"State\": \"North Carolina\", \"Case Count\": 2}, {\"County\": \"Cattaraugus\", \"State\": \"New York\", \"Case Count\": 1}, {\"County\": \"Cayuga\", \"State\": \"New York\", \"Case Count\": 2}, {\"County\": \"Cecil\", \"State\": \"Maryland\", \"Case Count\": 4}, {\"County\": \"Charles\", \"State\": \"Maryland\", \"Case Count\": 7}, {\"County\": \"Charles City\", \"State\": \"Virginia\", \"Case Count\": 1}, {\"County\": \"Chatham\", \"State\": \"Georgia\", \"Case Count\": 19}, {\"County\": \"Chatham\", \"State\": \"North Carolina\", \"Case Count\": 2}, {\"County\": \"Chautauqua\", \"State\": \"New York\", \"Case Count\": 2}, {\"County\": \"Chemung\", \"State\": \"New York\", \"Case Count\": 1}, {\"County\": \"Cherokee\", \"State\": \"Georgia\", \"Case Count\": 2}, {\"County\": \"Cherokee\", \"State\": \"North Carolina\", \"Case Count\": 1}, {\"County\": \"Chesapeake\", \"State\": \"Virginia\", \"Case Count\": 6}, {\"County\": \"Cheshire\", \"State\": \"New Hampshire\", \"Case Count\": 3}, {\"County\": \"Chester\", \"State\": \"Pennsylvania\", \"Case Count\": 5}, {\"County\": \"Chester\", \"State\": \"Tennessee\", \"Case Count\": 1}, {\"County\": \"Chesterfield\", \"State\": \"Virginia\", \"Case Count\": 1}, {\"County\": \"Chittenden\", \"State\": \"Vermont\", \"Case Count\": 1}, {\"County\": \"Claiborne\", \"State\": \"Tennessee\", \"Case Count\": 1}, {\"County\": \"Clarion\", \"State\": \"Pennsylvania\", \"Case Count\": 1}, {\"County\": \"Clarke\", \"State\": \"Virginia\", \"Case Count\": 1}, {\"County\": \"Clayton\", \"State\": \"Georgia\", \"Case Count\": 6}, {\"County\": \"Cobb\", \"State\": \"Georgia\", \"Case Count\": 9}, {\"County\": \"Cocke\", \"State\": \"Tennessee\", \"Case Count\": 1}, {\"County\": \"Columbia\", \"State\": \"Georgia\", \"Case Count\": 1}, {\"County\": \"Columbia\", \"State\": \"Pennsylvania\", \"Case Count\": 1}, {\"County\": \"Columbus\", \"State\": \"North Carolina\", \"Case Count\": 2}, {\"County\": \"Cook\", \"State\": \"Georgia\", \"Case Count\": 2}, {\"County\": \"Craven\", \"State\": \"North Carolina\", \"Case Count\": 3}, {\"County\": \"Crisp\", \"State\": \"Georgia\", \"Case Count\": 1}, {\"County\": \"Crockett\", \"State\": \"Tennessee\", \"Case Count\": 1}, {\"County\": \"Cumberland\", \"State\": \"Maine\", \"Case Count\": 3}, {\"County\": \"Cumberland\", \"State\": \"New Jersey\", \"Case Count\": 2}, {\"County\": \"Cumberland\", \"State\": \"North Carolina\", \"Case Count\": 9}, {\"County\": \"Cumberland\", \"State\": \"Tennessee\", \"Case Count\": 1}, {\"County\": \"Currituck\", \"State\": \"North Carolina\", \"Case Count\": 1}, {\"County\": \"Dare\", \"State\": \"North Carolina\", \"Case Count\": 3}, {\"County\": \"Dauphin\", \"State\": \"Pennsylvania\", \"Case Count\": 2}, {\"County\": \"Davidson\", \"State\": \"North Carolina\", \"Case Count\": 2}, {\"County\": \"Davidson\", \"State\": \"Tennessee\", \"Case Count\": 23}, {\"County\": \"Dawson\", \"State\": \"Georgia\", \"Case Count\": 4}, {\"County\": \"DeKalb\", \"State\": \"Georgia\", \"Case Count\": 20}, {\"County\": \"Decatur\", \"State\": \"Georgia\", \"Case Count\": 1}, {\"County\": \"Delaware\", \"State\": \"Pennsylvania\", \"Case Count\": 31}, {\"County\": \"Dickson\", \"State\": \"Tennessee\", \"Case Count\": 1}, {\"County\": \"Dinwiddie\", \"State\": \"Virginia\", \"Case Count\": 3}, {\"County\": \"Dooly\", \"State\": \"Georgia\", \"Case Count\": 1}, {\"County\": \"Dougherty\", \"State\": \"Georgia\", \"Case Count\": 2}, {\"County\": \"Douglas\", \"State\": \"Georgia\", \"Case Count\": 2}, {\"County\": \"Dukes\", \"State\": \"Massachusetts\", \"Case Count\": 1}, {\"County\": \"Duplin\", \"State\": \"North Carolina\", \"Case Count\": 2}, {\"County\": \"Durham\", \"State\": \"North Carolina\", \"Case Count\": 3}, {\"County\": \"Dutchess\", \"State\": \"New York\", \"Case Count\": 1}, {\"County\": \"Dyer\", \"State\": \"Tennessee\", \"Case Count\": 1}, {\"County\": \"Edgecombe\", \"State\": \"North Carolina\", \"Case Count\": 1}, {\"County\": \"Erie\", \"State\": \"New York\", \"Case Count\": 9}, {\"County\": \"Essex\", \"State\": \"Massachusetts\", \"Case Count\": 27}, {\"County\": \"Essex\", \"State\": \"New Jersey\", \"Case Count\": 72}, {\"County\": \"Essex\", \"State\": \"New York\", \"Case Count\": 1}, {\"County\": \"Fairfax\", \"State\": \"Virginia\", \"Case Count\": 18}, {\"County\": \"Fairfield\", \"State\": \"Connecticut\", \"Case Count\": 12}, {\"County\": \"Falls Church\", \"State\": \"Virginia\", \"Case Count\": 1}, {\"County\": \"Fannin\", \"State\": \"Georgia\", \"Case Count\": 1}, {\"County\": \"Fauquier\", \"State\": \"Virginia\", \"Case Count\": 1}, {\"County\": \"Fayette\", \"State\": \"Pennsylvania\", \"Case Count\": 2}, {\"County\": \"Fayette\", \"State\": \"West Virginia\", \"Case Count\": 1}, {\"County\": \"Forsyth\", \"State\": \"Georgia\", \"Case Count\": 2}, {\"County\": \"Forsyth\", \"State\": \"North Carolina\", \"Case Count\": 8}, {\"County\": \"Franklin\", \"State\": \"Massachusetts\", \"Case Count\": 1}, {\"County\": \"Franklin\", \"State\": \"North Carolina\", \"Case Count\": 2}, {\"County\": \"Frederick\", \"State\": \"Maryland\", \"Case Count\": 7}, {\"County\": \"Frederick\", \"State\": \"Virginia\", \"Case Count\": 3}, {\"County\": \"Fulton\", \"State\": \"Georgia\", \"Case Count\": 102}, {\"County\": \"Fulton\", \"State\": \"New York\", \"Case Count\": 1}, {\"County\": \"Gaston\", \"State\": \"North Carolina\", \"Case Count\": 2}, {\"County\": \"Genesee\", \"State\": \"New York\", \"Case Count\": 1}, {\"County\": \"Gilmer\", \"State\": \"Georgia\", \"Case Count\": 3}, {\"County\": \"Gloucester\", \"State\": \"New Jersey\", \"Case Count\": 23}, {\"County\": \"Gloucester\", \"State\": \"Virginia\", \"Case Count\": 1}, {\"County\": \"Glynn\", \"State\": \"Georgia\", \"Case Count\": 7}, {\"County\": \"Goochland\", \"State\": \"Virginia\", \"Case Count\": 1}, {\"County\": \"Gordon\", \"State\": \"Georgia\", \"Case Count\": 1}, {\"County\": \"Grady\", \"State\": \"Georgia\", \"Case Count\": 1}, {\"County\": \"Greenbrier\", \"State\": \"West Virginia\", \"Case Count\": 2}, {\"County\": \"Greene\", \"State\": \"Georgia\", \"Case Count\": 1}, {\"County\": \"Greene\", \"State\": \"New York\", \"Case Count\": 2}, {\"County\": \"Greensville\", \"State\": \"Virginia\", \"Case Count\": 2}, {\"County\": \"Grundy\", \"State\": \"Tennessee\", \"Case Count\": 1}, {\"County\": \"Guilford\", \"State\": \"North Carolina\", \"Case Count\": 7}, {\"County\": \"Gwinnett\", \"State\": \"Georgia\", \"Case Count\": 12}, {\"County\": \"Halifax\", \"State\": \"Virginia\", \"Case Count\": 1}, {\"County\": \"Hamblen\", \"State\": \"Tennessee\", \"Case Count\": 1}, {\"County\": \"Hamilton\", \"State\": \"Tennessee\", \"Case Count\": 8}, {\"County\": \"Hampden\", \"State\": \"Massachusetts\", \"Case Count\": 6}, {\"County\": \"Hampshire\", \"State\": \"West Virginia\", \"Case Count\": 1}, {\"County\": \"Hampton\", \"State\": \"Virginia\", \"Case Count\": 4}, {\"County\": \"Hancock\", \"State\": \"Maine\", \"Case Count\": 8}, {\"County\": \"Hancock\", \"State\": \"West Virginia\", \"Case Count\": 2}, {\"County\": \"Hanover\", \"State\": \"Virginia\", \"Case Count\": 6}, {\"County\": \"Hardeman\", \"State\": \"Tennessee\", \"Case Count\": 1}, {\"County\": \"Harford\", \"State\": \"Maryland\", \"Case Count\": 8}, {\"County\": \"Harnett\", \"State\": \"North Carolina\", \"Case Count\": 3}, {\"County\": \"Harris\", \"State\": \"Georgia\", \"Case Count\": 1}, {\"County\": \"Hartford\", \"State\": \"Connecticut\", \"Case Count\": 14}, {\"County\": \"Haywood\", \"State\": \"North Carolina\", \"Case Count\": 1}, {\"County\": \"Henderson\", \"State\": \"North Carolina\", \"Case Count\": 3}, {\"County\": \"Henderson\", \"State\": \"Tennessee\", \"Case Count\": 1}, {\"County\": \"Henrico\", \"State\": \"Virginia\", \"Case Count\": 6}, {\"County\": \"Henry\", \"State\": \"Georgia\", \"Case Count\": 3}, {\"County\": \"Henry\", \"State\": \"Tennessee\", \"Case Count\": 1}, {\"County\": \"Henry\", \"State\": \"Virginia\", \"Case Count\": 1}, {\"County\": \"Hickman\", \"State\": \"Tennessee\", \"Case Count\": 1}, {\"County\": \"Highland\", \"State\": \"Virginia\", \"Case Count\": 1}, {\"County\": \"Hillsborough\", \"State\": \"New Hampshire\", \"Case Count\": 1}, {\"County\": \"Hoke\", \"State\": \"North Carolina\", \"Case Count\": 3}, {\"County\": \"Howard\", \"State\": \"Maryland\", \"Case Count\": 1}, {\"County\": \"Hudson\", \"State\": \"New Jersey\", \"Case Count\": 59}, {\"County\": \"Hunterdon\", \"State\": \"New Jersey\", \"Case Count\": 1}, {\"County\": \"Hyde\", \"State\": \"North Carolina\", \"Case Count\": 1}, {\"County\": \"Indiana\", \"State\": \"Pennsylvania\", \"Case Count\": 1}, {\"County\": \"Iredell\", \"State\": \"North Carolina\", \"Case Count\": 2}, {\"County\": \"Isle of Wight\", \"State\": \"Virginia\", \"Case Count\": 3}, {\"County\": \"Jackson\", \"State\": \"Georgia\", \"Case Count\": 2}, {\"County\": \"Jackson\", \"State\": \"North Carolina\", \"Case Count\": 1}, {\"County\": \"James City\", \"State\": \"Virginia\", \"Case Count\": 2}, {\"County\": \"Jasper\", \"State\": \"Georgia\", \"Case Count\": 1}, {\"County\": \"Jefferson\", \"State\": \"Pennsylvania\", \"Case Count\": 1}, {\"County\": \"Jefferson\", \"State\": \"Tennessee\", \"Case Count\": 1}, {\"County\": \"Jefferson\", \"State\": \"West Virginia\", \"Case Count\": 4}, {\"County\": \"Jenkins\", \"State\": \"Georgia\", \"Case Count\": 2}, {\"County\": \"Johnson\", \"State\": \"Tennessee\", \"Case Count\": 2}, {\"County\": \"Johnston\", \"State\": \"North Carolina\", \"Case Count\": 9}, {\"County\": \"Jones\", \"State\": \"North Carolina\", \"Case Count\": 1}, {\"County\": \"Kanawha\", \"State\": \"West Virginia\", \"Case Count\": 4}, {\"County\": \"Kings\", \"State\": \"New York\", \"Case Count\": 337}, {\"County\": \"Knox\", \"State\": \"Tennessee\", \"Case Count\": 9}, {\"County\": \"Lackawanna\", \"State\": \"Pennsylvania\", \"Case Count\": 2}, {\"County\": \"Lancaster\", \"State\": \"Pennsylvania\", \"Case Count\": 5}, {\"County\": \"Lawrence\", \"State\": \"Pennsylvania\", \"Case Count\": 1}, {\"County\": \"Lee\", \"State\": \"North Carolina\", \"Case Count\": 2}, {\"County\": \"Lee\", \"State\": \"Virginia\", \"Case Count\": 1}, {\"County\": \"Lehigh\", \"State\": \"Pennsylvania\", \"Case Count\": 2}, {\"County\": \"Lenoir\", \"State\": \"North Carolina\", \"Case Count\": 1}, {\"County\": \"Lewis\", \"State\": \"West Virginia\", \"Case Count\": 1}, {\"County\": \"Lincoln\", \"State\": \"Maine\", \"Case Count\": 1}, {\"County\": \"Litchfield\", \"State\": \"Connecticut\", \"Case Count\": 1}, {\"County\": \"Livingston\", \"State\": \"New York\", \"Case Count\": 1}, {\"County\": \"Loudon\", \"State\": \"Tennessee\", \"Case Count\": 1}, {\"County\": \"Loudoun\", \"State\": \"Virginia\", \"Case Count\": 6}, {\"County\": \"Louisa\", \"State\": \"Virginia\", \"Case Count\": 2}, {\"County\": \"Lowndes\", \"State\": \"Georgia\", \"Case Count\": 1}, {\"County\": \"Lunenburg\", \"State\": \"Virginia\", \"Case Count\": 1}, {\"County\": \"Luzerne\", \"State\": \"Pennsylvania\", \"Case Count\": 4}, {\"County\": \"Lynchburg\", \"State\": \"Virginia\", \"Case Count\": 3}, {\"County\": \"Macon\", \"State\": \"North Carolina\", \"Case Count\": 2}, {\"County\": \"Madison\", \"State\": \"Tennessee\", \"Case Count\": 1}, {\"County\": \"Marshall\", \"State\": \"West Virginia\", \"Case Count\": 1}, {\"County\": \"Mason\", \"State\": \"West Virginia\", \"Case Count\": 1}, {\"County\": \"McKean\", \"State\": \"Pennsylvania\", \"Case Count\": 1}, {\"County\": \"McMinn\", \"State\": \"Tennessee\", \"Case Count\": 1}, {\"County\": \"Mecklenburg\", \"State\": \"North Carolina\", \"Case Count\": 12}, {\"County\": \"Mecklenburg\", \"State\": \"Virginia\", \"Case Count\": 4}, {\"County\": \"Mercer\", \"State\": \"New Jersey\", \"Case Count\": 11}, {\"County\": \"Mercer\", \"State\": \"Pennsylvania\", \"Case Count\": 1}, {\"County\": \"Mercer\", \"State\": \"West Virginia\", \"Case Count\": 2}, {\"County\": \"Meriwether\", \"State\": \"Georgia\", \"Case Count\": 2}, {\"County\": \"Merrimack\", \"State\": \"New Hampshire\", \"Case Count\": 2}, {\"County\": \"Middlesex\", \"State\": \"Connecticut\", \"Case Count\": 4}, {\"County\": \"Middlesex\", \"State\": \"Massachusetts\", \"Case Count\": 27}, {\"County\": \"Middlesex\", \"State\": \"New Jersey\", \"Case Count\": 17}, {\"County\": \"Mingo\", \"State\": \"West Virginia\", \"Case Count\": 1}, {\"County\": \"Monmouth\", \"State\": \"New Jersey\", \"Case Count\": 31}, {\"County\": \"Monongalia\", \"State\": \"West Virginia\", \"Case Count\": 1}, {\"County\": \"Monroe\", \"State\": \"Georgia\", \"Case Count\": 2}, {\"County\": \"Monroe\", \"State\": \"New York\", \"Case Count\": 29}, {\"County\": \"Monroe\", \"State\": \"Pennsylvania\", \"Case Count\": 2}, {\"County\": \"Monroe\", \"State\": \"Tennessee\", \"Case Count\": 1}, {\"County\": \"Montgomery\", \"State\": \"Maryland\", \"Case Count\": 12}, {\"County\": \"Montgomery\", \"State\": \"Pennsylvania\", \"Case Count\": 3}, {\"County\": \"Morgan\", \"State\": \"Tennessee\", \"Case Count\": 1}, {\"County\": \"Morgan\", \"State\": \"West Virginia\", \"Case Count\": 1}, {\"County\": \"Morris\", \"State\": \"New Jersey\", \"Case Count\": 3}, {\"County\": \"Muscogee\", \"State\": \"Georgia\", \"Case Count\": 3}, {\"County\": \"Nantucket\", \"State\": \"Massachusetts\", \"Case Count\": 1}, {\"County\": \"Nash\", \"State\": \"North Carolina\", \"Case Count\": 8}, {\"County\": \"Nassau\", \"State\": \"New York\", \"Case Count\": 17}, {\"County\": \"Nelson\", \"State\": \"Virginia\", \"Case Count\": 7}, {\"County\": \"New Hanover\", \"State\": \"North Carolina\", \"Case Count\": 3}, {\"County\": \"New Haven\", \"State\": \"Connecticut\", \"Case Count\": 10}, {\"County\": \"New London\", \"State\": \"Connecticut\", \"Case Count\": 4}, {\"County\": \"New York\", \"State\": \"New York\", \"Case Count\": 509}, {\"County\": \"Newport News\", \"State\": \"Virginia\", \"Case Count\": 7}, {\"County\": \"Newton\", \"State\": \"Georgia\", \"Case Count\": 1}, {\"County\": \"Niagara\", \"State\": \"New York\", \"Case Count\": 26}, {\"County\": \"Norfolk\", \"State\": \"Massachusetts\", \"Case Count\": 14}, {\"County\": \"Norfolk\", \"State\": \"Virginia\", \"Case Count\": 22}, {\"County\": \"Northampton\", \"State\": \"North Carolina\", \"Case Count\": 1}, {\"County\": \"Northampton\", \"State\": \"Virginia\", \"Case Count\": 7}, {\"County\": \"Northumberland\", \"State\": \"Pennsylvania\", \"Case Count\": 2}, {\"County\": \"Northumberland\", \"State\": \"Virginia\", \"Case Count\": 1}, {\"County\": \"Nottoway\", \"State\": \"Virginia\", \"Case Count\": 2}, {\"County\": \"Ocean\", \"State\": \"New Jersey\", \"Case Count\": 34}, {\"County\": \"Oglethorpe\", \"State\": \"Georgia\", \"Case Count\": 1}, {\"County\": \"Onondaga\", \"State\": \"New York\", \"Case Count\": 5}, {\"County\": \"Onslow\", \"State\": \"North Carolina\", \"Case Count\": 3}, {\"County\": \"Orange\", \"State\": \"New York\", \"Case Count\": 10}, {\"County\": \"Orange\", \"State\": \"North Carolina\", \"Case Count\": 1}, {\"County\": \"Orange\", \"State\": \"Virginia\", \"Case Count\": 1}, {\"County\": \"Orleans\", \"State\": \"New York\", \"Case Count\": 1}, {\"County\": \"Oswego\", \"State\": \"New York\", \"Case Count\": 3}, {\"County\": \"Page\", \"State\": \"Virginia\", \"Case Count\": 1}, {\"County\": \"Pamlico\", \"State\": \"North Carolina\", \"Case Count\": 1}, {\"County\": \"Passaic\", \"State\": \"New Jersey\", \"Case Count\": 12}, {\"County\": \"Patrick\", \"State\": \"Virginia\", \"Case Count\": 1}, {\"County\": \"Paulding\", \"State\": \"Georgia\", \"Case Count\": 1}, {\"County\": \"Pender\", \"State\": \"North Carolina\", \"Case Count\": 1}, {\"County\": \"Pendleton\", \"State\": \"West Virginia\", \"Case Count\": 1}, {\"County\": \"Perry\", \"State\": \"Pennsylvania\", \"Case Count\": 1}, {\"County\": \"Petersburg\", \"State\": \"Virginia\", \"Case Count\": 5}, {\"County\": \"Philadelphia\", \"State\": \"Pennsylvania\", \"Case Count\": 224}, {\"County\": \"Pickens\", \"State\": \"Georgia\", \"Case Count\": 2}, {\"County\": \"Pitt\", \"State\": \"North Carolina\", \"Case Count\": 2}, {\"County\": \"Pittsylvania\", \"State\": \"Virginia\", \"Case Count\": 4}, {\"County\": \"Plymouth\", \"State\": \"Massachusetts\", \"Case Count\": 9}, {\"County\": \"Polk\", \"State\": \"Georgia\", \"Case Count\": 2}, {\"County\": \"Polk\", \"State\": \"North Carolina\", \"Case Count\": 3}, {\"County\": \"Portsmouth\", \"State\": \"Virginia\", \"Case Count\": 6}, {\"County\": \"Prince George's\", \"State\": \"Maryland\", \"Case Count\": 82}, {\"County\": \"Prince William\", \"State\": \"Virginia\", \"Case Count\": 3}, {\"County\": \"Pulaski\", \"State\": \"Georgia\", \"Case Count\": 1}, {\"County\": \"Pulaski\", \"State\": \"Virginia\", \"Case Count\": 2}, {\"County\": \"Putnam\", \"State\": \"Georgia\", \"Case Count\": 2}, {\"County\": \"Putnam\", \"State\": \"New York\", \"Case Count\": 3}, {\"County\": \"Queen Anne's\", \"State\": \"Maryland\", \"Case Count\": 2}, {\"County\": \"Queens\", \"State\": \"New York\", \"Case Count\": 218}, {\"County\": \"Raleigh\", \"State\": \"West Virginia\", \"Case Count\": 1}, {\"County\": \"Randolph\", \"State\": \"North Carolina\", \"Case Count\": 2}, {\"County\": \"Richmond\", \"State\": \"Georgia\", \"Case Count\": 5}, {\"County\": \"Richmond\", \"State\": \"New York\", \"Case Count\": 31}, {\"County\": \"Richmond\", \"State\": \"Virginia\", \"Case Count\": 13}, {\"County\": \"Roane\", \"State\": \"Tennessee\", \"Case Count\": 1}, {\"County\": \"Roanoke\", \"State\": \"Virginia\", \"Case Count\": 3}, {\"County\": \"Robertson\", \"State\": \"Tennessee\", \"Case Count\": 1}, {\"County\": \"Robeson\", \"State\": \"North Carolina\", \"Case Count\": 5}, {\"County\": \"Rockbridge\", \"State\": \"Virginia\", \"Case Count\": 1}, {\"County\": \"Rockdale\", \"State\": \"Georgia\", \"Case Count\": 1}, {\"County\": \"Rockingham\", \"State\": \"New Hampshire\", \"Case Count\": 2}, {\"County\": \"Rockingham\", \"State\": \"Virginia\", \"Case Count\": 1}, {\"County\": \"Rockland\", \"State\": \"New York\", \"Case Count\": 3}, {\"County\": \"Rowan\", \"State\": \"North Carolina\", \"Case Count\": 2}, {\"County\": \"Rutherford\", \"State\": \"North Carolina\", \"Case Count\": 1}, {\"County\": \"Rutherford\", \"State\": \"Tennessee\", \"Case Count\": 2}, {\"County\": \"Rutland\", \"State\": \"Vermont\", \"Case Count\": 1}, {\"County\": \"Sagadahoc\", \"State\": \"Maine\", \"Case Count\": 3}, {\"County\": \"Salem\", \"State\": \"New Jersey\", \"Case Count\": 6}, {\"County\": \"Sampson\", \"State\": \"North Carolina\", \"Case Count\": 5}, {\"County\": \"Saratoga\", \"State\": \"New York\", \"Case Count\": 1}, {\"County\": \"Schuylkill\", \"State\": \"Pennsylvania\", \"Case Count\": 2}, {\"County\": \"Seminole\", \"State\": \"Georgia\", \"Case Count\": 2}, {\"County\": \"Seneca\", \"State\": \"New York\", \"Case Count\": 2}, {\"County\": \"Shelby\", \"State\": \"Tennessee\", \"Case Count\": 35}, {\"County\": \"Shenandoah\", \"State\": \"Virginia\", \"Case Count\": 1}, {\"County\": \"Somerset\", \"State\": \"New Jersey\", \"Case Count\": 3}, {\"County\": \"Somerset\", \"State\": \"Pennsylvania\", \"Case Count\": 3}, {\"County\": \"Stafford\", \"State\": \"Virginia\", \"Case Count\": 5}, {\"County\": \"Stephens\", \"State\": \"Georgia\", \"Case Count\": 1}, {\"County\": \"Stewart\", \"State\": \"Georgia\", \"Case Count\": 1}, {\"County\": \"Suffolk\", \"State\": \"Massachusetts\", \"Case Count\": 72}, {\"County\": \"Suffolk\", \"State\": \"New York\", \"Case Count\": 31}, {\"County\": \"Suffolk\", \"State\": \"Virginia\", \"Case Count\": 1}, {\"County\": \"Sullivan\", \"State\": \"New York\", \"Case Count\": 1}, {\"County\": \"Surry\", \"State\": \"North Carolina\", \"Case Count\": 1}, {\"County\": \"Susquehanna\", \"State\": \"Pennsylvania\", \"Case Count\": 1}, {\"County\": \"Sussex\", \"State\": \"New Jersey\", \"Case Count\": 3}, {\"County\": \"Sussex\", \"State\": \"Virginia\", \"Case Count\": 3}, {\"County\": \"Talbot\", \"State\": \"Maryland\", \"Case Count\": 1}, {\"County\": \"Tattnall\", \"State\": \"Georgia\", \"Case Count\": 1}, {\"County\": \"Troup\", \"State\": \"Georgia\", \"Case Count\": 2}, {\"County\": \"Twiggs\", \"State\": \"Georgia\", \"Case Count\": 1}, {\"County\": \"Ulster\", \"State\": \"New York\", \"Case Count\": 8}, {\"County\": \"Union\", \"State\": \"New Jersey\", \"Case Count\": 16}, {\"County\": \"Virginia Beach\", \"State\": \"Virginia\", \"Case Count\": 10}, {\"County\": \"Wake\", \"State\": \"North Carolina\", \"Case Count\": 11}, {\"County\": \"Waldo\", \"State\": \"Maine\", \"Case Count\": 1}, {\"County\": \"Warren\", \"State\": \"New Jersey\", \"Case Count\": 3}, {\"County\": \"Warren\", \"State\": \"Virginia\", \"Case Count\": 1}, {\"County\": \"Washington\", \"State\": \"Georgia\", \"Case Count\": 1}, {\"County\": \"Washington\", \"State\": \"Maine\", \"Case Count\": 2}, {\"County\": \"Washington\", \"State\": \"Maryland\", \"Case Count\": 3}, {\"County\": \"Washington\", \"State\": \"Pennsylvania\", \"Case Count\": 3}, {\"County\": \"Washington\", \"State\": \"Virginia\", \"Case Count\": 2}, {\"County\": \"Wayne\", \"State\": \"New York\", \"Case Count\": 8}, {\"County\": \"Wayne\", \"State\": \"North Carolina\", \"Case Count\": 6}, {\"County\": \"Wayne\", \"State\": \"Pennsylvania\", \"Case Count\": 1}, {\"County\": \"Wayne\", \"State\": \"West Virginia\", \"Case Count\": 3}, {\"County\": \"Westchester\", \"State\": \"New York\", \"Case Count\": 15}, {\"County\": \"Wetzel\", \"State\": \"West Virginia\", \"Case Count\": 1}, {\"County\": \"Whitfield\", \"State\": \"Georgia\", \"Case Count\": 2}, {\"County\": \"Wicomico\", \"State\": \"Maryland\", \"Case Count\": 3}, {\"County\": \"Williamsburg\", \"State\": \"Virginia\", \"Case Count\": 2}, {\"County\": \"Williamson\", \"State\": \"Tennessee\", \"Case Count\": 1}, {\"County\": \"Wilson\", \"State\": \"North Carolina\", \"Case Count\": 3}, {\"County\": \"Wilson\", \"State\": \"Tennessee\", \"Case Count\": 1}, {\"County\": \"Windham\", \"State\": \"Connecticut\", \"Case Count\": 2}, {\"County\": \"Windsor\", \"State\": \"Vermont\", \"Case Count\": 2}, {\"County\": \"Worcester\", \"State\": \"Maryland\", \"Case Count\": 7}, {\"County\": \"Worcester\", \"State\": \"Massachusetts\", \"Case Count\": 13}, {\"County\": \"Worth\", \"State\": \"Georgia\", \"Case Count\": 1}, {\"County\": \"York\", \"State\": \"Maine\", \"Case Count\": 9}, {\"County\": \"York\", \"State\": \"Pennsylvania\", \"Case Count\": 2}, {\"County\": \"York\", \"State\": \"Virginia\", \"Case Count\": 3}]}}, {\"mode\": \"vega-lite\"});\n",
       "</script>"
      ],
      "text/plain": [
       "alt.Chart(...)"
      ]
     },
     "execution_count": 229,
     "metadata": {},
     "output_type": "execute_result"
    }
   ],
   "source": [
    "# Create a selection for the state\n",
    "state_selection = alt.selection_single(fields=['State'], bind='legend', name=\"Select State\")\n",
    "\n",
    "# Bar chart showing total cases by state\n",
    "state_chart = alt.Chart(data).mark_bar().encode(\n",
    "    alt.X(\"State\"),\n",
    "    alt.Y(\"sum(Case Count):Q\", title=\"Total Case Count\"),\n",
    "    color=alt.Color(\"State:N\", legend=None)\n",
    ").add_selection(\n",
    "    state_selection\n",
    ")\n",
    "\n",
    "state_chart"
   ]
  },
  {
   "cell_type": "code",
   "execution_count": 255,
   "id": "600eb7e8-1d94-4620-b6ed-d2fb4f844eca",
   "metadata": {},
   "outputs": [
    {
     "name": "stderr",
     "output_type": "stream",
     "text": [
      "/opt/anaconda3/lib/python3.12/site-packages/altair/utils/core.py:395: FutureWarning: the convert_dtype parameter is deprecated and will be removed in a future version.  Do ``ser.astype(object).apply()`` instead if you want ``convert_dtype=False``.\n",
      "  col = df[col_name].apply(to_list_if_array, convert_dtype=False)\n",
      "/opt/anaconda3/lib/python3.12/site-packages/altair/utils/core.py:395: FutureWarning: the convert_dtype parameter is deprecated and will be removed in a future version.  Do ``ser.astype(object).apply()`` instead if you want ``convert_dtype=False``.\n",
      "  col = df[col_name].apply(to_list_if_array, convert_dtype=False)\n"
     ]
    }
   ],
   "source": [
    "state_chart.save('state_chart.json')"
   ]
  },
  {
   "cell_type": "code",
   "execution_count": 241,
   "id": "8515e082-a9fa-4ca9-abdb-0530a18cc383",
   "metadata": {},
   "outputs": [
    {
     "name": "stdout",
     "output_type": "stream",
     "text": [
      "  Biological Sex  Count\n",
      "0           Male   2755\n",
      "1         Female    731\n",
      "2         Unsure    215\n",
      "3          Other      1\n"
     ]
    }
   ],
   "source": [
    "# Count occurrences of each category in the 'Biological Sex' column\n",
    "count_data = df['Biological Sex'].value_counts().reset_index()\n",
    "\n",
    "# Rename columns for clarity\n",
    "count_data.columns = ['Biological Sex', 'Count']\n",
    "\n",
    "print(count_data)"
   ]
  },
  {
   "cell_type": "code",
   "execution_count": 249,
   "id": "51b77d68-b501-475c-8206-8b750a53b73b",
   "metadata": {},
   "outputs": [
    {
     "name": "stdout",
     "output_type": "stream",
     "text": [
      "  Biological Sex  Count\n",
      "0           Male   2755\n",
      "1         Female    731\n",
      "2         Unsure    215\n"
     ]
    }
   ],
   "source": [
    "filtered_data = count_data[count_data['Biological Sex'] != 'Other']\n",
    "\n",
    "print(filtered_data)"
   ]
  },
  {
   "cell_type": "code",
   "execution_count": 251,
   "id": "ef3f180f-4787-4ecc-9dfa-cb7c86de8078",
   "metadata": {},
   "outputs": [
    {
     "name": "stderr",
     "output_type": "stream",
     "text": [
      "/opt/anaconda3/lib/python3.12/site-packages/altair/utils/core.py:395: FutureWarning: the convert_dtype parameter is deprecated and will be removed in a future version.  Do ``ser.astype(object).apply()`` instead if you want ``convert_dtype=False``.\n",
      "  col = df[col_name].apply(to_list_if_array, convert_dtype=False)\n"
     ]
    },
    {
     "data": {
      "text/html": [
       "\n",
       "<style>\n",
       "  #altair-viz-610e6bcd13b84f3f881ce34e679db7be.vega-embed {\n",
       "    width: 100%;\n",
       "    display: flex;\n",
       "  }\n",
       "\n",
       "  #altair-viz-610e6bcd13b84f3f881ce34e679db7be.vega-embed details,\n",
       "  #altair-viz-610e6bcd13b84f3f881ce34e679db7be.vega-embed details summary {\n",
       "    position: relative;\n",
       "  }\n",
       "</style>\n",
       "<div id=\"altair-viz-610e6bcd13b84f3f881ce34e679db7be\"></div>\n",
       "<script type=\"text/javascript\">\n",
       "  var VEGA_DEBUG = (typeof VEGA_DEBUG == \"undefined\") ? {} : VEGA_DEBUG;\n",
       "  (function(spec, embedOpt){\n",
       "    let outputDiv = document.currentScript.previousElementSibling;\n",
       "    if (outputDiv.id !== \"altair-viz-610e6bcd13b84f3f881ce34e679db7be\") {\n",
       "      outputDiv = document.getElementById(\"altair-viz-610e6bcd13b84f3f881ce34e679db7be\");\n",
       "    }\n",
       "    const paths = {\n",
       "      \"vega\": \"https://cdn.jsdelivr.net/npm/vega@5?noext\",\n",
       "      \"vega-lib\": \"https://cdn.jsdelivr.net/npm/vega-lib?noext\",\n",
       "      \"vega-lite\": \"https://cdn.jsdelivr.net/npm/vega-lite@5.8.0?noext\",\n",
       "      \"vega-embed\": \"https://cdn.jsdelivr.net/npm/vega-embed@6?noext\",\n",
       "    };\n",
       "\n",
       "    function maybeLoadScript(lib, version) {\n",
       "      var key = `${lib.replace(\"-\", \"\")}_version`;\n",
       "      return (VEGA_DEBUG[key] == version) ?\n",
       "        Promise.resolve(paths[lib]) :\n",
       "        new Promise(function(resolve, reject) {\n",
       "          var s = document.createElement('script');\n",
       "          document.getElementsByTagName(\"head\")[0].appendChild(s);\n",
       "          s.async = true;\n",
       "          s.onload = () => {\n",
       "            VEGA_DEBUG[key] = version;\n",
       "            return resolve(paths[lib]);\n",
       "          };\n",
       "          s.onerror = () => reject(`Error loading script: ${paths[lib]}`);\n",
       "          s.src = paths[lib];\n",
       "        });\n",
       "    }\n",
       "\n",
       "    function showError(err) {\n",
       "      outputDiv.innerHTML = `<div class=\"error\" style=\"color:red;\">${err}</div>`;\n",
       "      throw err;\n",
       "    }\n",
       "\n",
       "    function displayChart(vegaEmbed) {\n",
       "      vegaEmbed(outputDiv, spec, embedOpt)\n",
       "        .catch(err => showError(`Javascript Error: ${err.message}<br>This usually means there's a typo in your chart specification. See the javascript console for the full traceback.`));\n",
       "    }\n",
       "\n",
       "    if(typeof define === \"function\" && define.amd) {\n",
       "      requirejs.config({paths});\n",
       "      require([\"vega-embed\"], displayChart, err => showError(`Error loading script: ${err.message}`));\n",
       "    } else {\n",
       "      maybeLoadScript(\"vega\", \"5\")\n",
       "        .then(() => maybeLoadScript(\"vega-lite\", \"5.8.0\"))\n",
       "        .then(() => maybeLoadScript(\"vega-embed\", \"6\"))\n",
       "        .catch(showError)\n",
       "        .then(() => displayChart(vegaEmbed));\n",
       "    }\n",
       "  })({\"config\": {\"view\": {\"continuousWidth\": 300, \"continuousHeight\": 300}}, \"data\": {\"name\": \"data-4a40219b9c81ddb22db7f80d506008f2\"}, \"mark\": {\"type\": \"arc\"}, \"encoding\": {\"color\": {\"field\": \"Biological Sex\", \"title\": \"Biological Sex\", \"type\": \"nominal\"}, \"theta\": {\"field\": \"Count\", \"title\": \"Proportion\", \"type\": \"quantitative\"}, \"tooltip\": [{\"field\": \"Biological Sex\", \"type\": \"nominal\"}, {\"field\": \"Count\", \"type\": \"quantitative\"}]}, \"title\": \"Distribution of Biological Sex\", \"$schema\": \"https://vega.github.io/schema/vega-lite/v5.8.0.json\", \"datasets\": {\"data-4a40219b9c81ddb22db7f80d506008f2\": [{\"Biological Sex\": \"Male\", \"Count\": 2755}, {\"Biological Sex\": \"Female\", \"Count\": 731}, {\"Biological Sex\": \"Unsure\", \"Count\": 215}]}}, {\"mode\": \"vega-lite\"});\n",
       "</script>"
      ],
      "text/plain": [
       "alt.Chart(...)"
      ]
     },
     "execution_count": 251,
     "metadata": {},
     "output_type": "execute_result"
    }
   ],
   "source": [
    "# Create the pie chart\n",
    "pie_chart = alt.Chart(filtered_data).mark_arc().encode(\n",
    "    theta=alt.Theta(field=\"Count\", type=\"quantitative\", title=\"Proportion\"),\n",
    "    color=alt.Color(field=\"Biological Sex\", type=\"nominal\", title=\"Biological Sex\"),\n",
    "    tooltip=[\n",
    "        alt.Tooltip(field=\"Biological Sex\", type=\"nominal\"),\n",
    "        alt.Tooltip(field=\"Count\", type=\"quantitative\")\n",
    "    ]\n",
    ").properties(\n",
    "    title=\"Distribution of Biological Sex\"\n",
    ")\n",
    "\n",
    "pie_chart"
   ]
  },
  {
   "cell_type": "code",
   "execution_count": 253,
   "id": "0a19a6ea-dc9a-4f52-bf13-b6db5ecc0917",
   "metadata": {},
   "outputs": [
    {
     "name": "stderr",
     "output_type": "stream",
     "text": [
      "/opt/anaconda3/lib/python3.12/site-packages/altair/utils/core.py:395: FutureWarning: the convert_dtype parameter is deprecated and will be removed in a future version.  Do ``ser.astype(object).apply()`` instead if you want ``convert_dtype=False``.\n",
      "  col = df[col_name].apply(to_list_if_array, convert_dtype=False)\n"
     ]
    }
   ],
   "source": [
    "pie_chart.save('pie_chart.json')"
   ]
  }
 ],
 "metadata": {
  "kernelspec": {
   "display_name": "Python 3 (ipykernel)",
   "language": "python",
   "name": "python3"
  },
  "language_info": {
   "codemirror_mode": {
    "name": "ipython",
    "version": 3
   },
   "file_extension": ".py",
   "mimetype": "text/x-python",
   "name": "python",
   "nbconvert_exporter": "python",
   "pygments_lexer": "ipython3",
   "version": "3.12.4"
  }
 },
 "nbformat": 4,
 "nbformat_minor": 5
}
